{
 "cells": [
  {
   "cell_type": "code",
   "execution_count": 15,
   "metadata": {
    "id": "V5px4KUdWAcb"
   },
   "outputs": [],
   "source": [
    "import os\n",
    "import music21\n",
    "import zipfile\n",
    "import json\n",
    "import tensorflow.keras as keras\n",
    "import numpy as np"
   ]
  },
  {
   "cell_type": "code",
   "execution_count": 2,
   "metadata": {
    "tags": []
   },
   "outputs": [],
   "source": [
    "import tensorflow as tf"
   ]
  },
  {
   "cell_type": "code",
   "execution_count": 3,
   "metadata": {
    "tags": []
   },
   "outputs": [
    {
     "data": {
      "text/plain": [
       "[PhysicalDevice(name='/physical_device:GPU:0', device_type='GPU')]"
      ]
     },
     "execution_count": 3,
     "metadata": {},
     "output_type": "execute_result"
    }
   ],
   "source": [
    "tf.config.experimental.list_physical_devices('GPU')"
   ]
  },
  {
   "cell_type": "code",
   "execution_count": 4,
   "metadata": {},
   "outputs": [],
   "source": [
    "SAVE_DIR=\"dataset\"\n",
    "SINGLE_FILE_PATH=\"single_file_data/song_data\"\n",
    "MAPPING_FILE_PATH=\"mappings/mapping.json\"\n",
    "SEQUENCE_LENGTH=32\n",
    "SAVE_MODEL_PATH='lstm_song_generator.h5'"
   ]
  },
  {
   "cell_type": "code",
   "execution_count": 5,
   "metadata": {
    "id": "dXvle5QfWXly"
   },
   "outputs": [],
   "source": [
    "def load_songs_in_kern_format(dataset_path):\n",
    "  song_list=[]\n",
    "  for path,subdirs,files in os.walk(dataset_path):\n",
    "    for file in files:\n",
    "      if file[-4:]==\".krn\":\n",
    "        song=music21.converter.parse(os.path.join(path,file))\n",
    "        song_list.append(song)\n",
    "  return song_list\n",
    "\n",
    "\n",
    "\n",
    "ACCEPTABLE_DURATIONS=[0.25,0.5,0.75,1,1.5,2,3,4]\n",
    "\n",
    "def has_acceptible_duration(song,acceptable_durations):\n",
    "    for note in song.flat.notesAndRests:\n",
    "        if note.duration.quarterLength not in acceptable_durations:\n",
    "            return False\n",
    "    return True\n",
    "\n",
    "\n",
    "\n",
    "def transpose(song):\n",
    "    parts=song.getElementsByClass(music21.stream.Part)\n",
    "    measure_part0=parts[0].getElementsByClass(music21.stream.Measure)\n",
    "    key=measure_part0[0][4]\n",
    "    \n",
    "    if not isinstance(key,music21.key.Key):\n",
    "        key=song.analyze(\"key\")\n",
    "    \n",
    "    if key.mode==\"major\":\n",
    "        interval=music21.interval.Interval(key.tonic,music21.pitch.Pitch(\"C\"))\n",
    "    elif key.mode==\"minor\":\n",
    "        interval=music21.interval.Interval(key.tonic,music21.pitch.Pitch(\"A\"))\n",
    "        \n",
    "    transposed_song=song.transpose(interval)\n",
    "    return transposed_song\n",
    "    \n",
    "    \n",
    "    \n",
    "def encode_song(song,time_step=0.25):\n",
    "    #pitch=60 duration=1.0--->{60,\"_\",\"_\",\"_\"}\n",
    "    encoded_song=[]\n",
    "    for event in song.flat.notesAndRests:\n",
    "        #handle notes\n",
    "        if isinstance(event,music21.note.Note):\n",
    "            symbol=event.pitch.midi #60\n",
    "        elif isinstance(event,music21.note.Rest):\n",
    "            symbol=\"r\"\n",
    "        #Convert the notes or rests into time series\n",
    "        steps= int(event.duration.quarterLength/time_step)\n",
    "        for step in range(steps):\n",
    "            if step==0:\n",
    "                encoded_song.append(symbol)\n",
    "            else:\n",
    "                encoded_song.append(\"_\")\n",
    "    #cast the song to a string\\\n",
    "    encoded_song=\" \".join(map(str,encoded_song))\n",
    "    return encoded_song\n",
    "\n",
    "\n",
    "def load(filepath):\n",
    "    with open(filepath,\"r\") as fp:\n",
    "        song=fp.read()\n",
    "    return song\n",
    "\n",
    "def create_single_file_dataset(dataset_path,file_dataset_path,sequence_length):\n",
    "    new_song_delimiter=\"/ \"*sequence_length\n",
    "    songs=\"\"\n",
    "    for path,_,files in os.walk(dataset_path):\n",
    "        for file in files:\n",
    "            filepath=os.path.join(path,file)\n",
    "            song=load(filepath)\n",
    "            songs+=song+\" \"+new_song_delimiter\n",
    "    songs=songs[:-1]\n",
    "    with open(file_dataset_path,\"w\") as fp:\n",
    "        fp.write(songs)\n",
    "    return songs\n",
    "\n",
    "\n",
    "\n",
    "def create_mapping(songs,mapping_file_path):\n",
    "    mapping_dictionary={}\n",
    "    songs=songs.split()\n",
    "    vocaublary=list(set(songs))\n",
    "    for i, symbol in enumerate(vocaublary):\n",
    "        mapping_dictionary[symbol]=i\n",
    "    #save as .json file\n",
    "    with open(mapping_file_path,\"w\") as fp:\n",
    "        json.dump(mapping_dictionary,fp)\n",
    "    return mapping_dictionary\n",
    "\n",
    "def convert_songs_to_integers(songs,mapping_file_path):\n",
    "    int_songs=[]\n",
    "    with open(mapping_file_path,\"r\") as fp:\n",
    "        mappings=json.load(fp)\n",
    "    songs=songs.split()\n",
    "    for symbol in songs:\n",
    "        int_songs.append(mappings[symbol])\n",
    "    return int_songs\n",
    "\n",
    "def generating_training_seq(sequence_length):\n",
    "    #inputs are fixed length time series of length=sequence_length\n",
    "    #[11,12,13,14...]\n",
    "    #[11,12]->[13], [12,13]->[14] and so on...\n",
    "    \n",
    "    songs=load(SINGLE_FILE_PATH)\n",
    "    int_songs=convert_songs_to_integers(songs,MAPPING_FILE_PATH)\n",
    "    \n",
    "    inputs=[]\n",
    "    targets=[]\n",
    "    \n",
    "    n_sequences=len(int_songs)-sequence_length\n",
    "    for i in range(n_sequences):\n",
    "        inputs.append(int_songs[i:(i+sequence_length)])\n",
    "        targets.append(int_songs[i+sequence_length])\n",
    "    \n",
    "    #one hot encoding the sequences\n",
    "    #[[0,1,2],[1,2,1]]-->[ [ [1,0,0] , [0,1,0] , [0,0,1] ] , [ [0,1,0],[0,0,1],[0,1,0] ] ]\n",
    "    vocabulary_size=len(set(int_songs))\n",
    "    inputs=keras.utils.to_categorical(inputs,vocabulary_size)\n",
    "    targets=np.array(targets)\n",
    "    return inputs,targets"
   ]
  },
  {
   "cell_type": "code",
   "execution_count": 6,
   "metadata": {
    "id": "GqscKs7aYcF0"
   },
   "outputs": [
    {
     "name": "stdout",
     "output_type": "stream",
     "text": [
      "Loaded 12 songs\n"
     ]
    }
   ],
   "source": [
    "songs=load_songs_in_kern_format(r\"C:\\Users\\padma\\OneDrive\\Desktop\\essen\\europa\\deutschl\\test\")\n",
    "print(\"Loaded {} songs\".format(len(songs)))"
   ]
  },
  {
   "cell_type": "code",
   "execution_count": 7,
   "metadata": {
    "tags": []
   },
   "outputs": [
    {
     "data": {
      "text/plain": [
       "WindowsPath('C:/Program Files/MuseScore 4/bin/MuseScore4.exe')"
      ]
     },
     "execution_count": 7,
     "metadata": {},
     "output_type": "execute_result"
    }
   ],
   "source": [
    "us = music21.environment.UserSettings()\n",
    "us['musicxmlPath'] = 'C:\\\\Program Files\\\\MuseScore 4\\\\bin\\\\MuseScore4.exe'\n",
    "us['musescoreDirectPNGPath'] = 'C:\\\\Program Files\\\\MuseScore 4\\\\bin\\\\MuseScore4.exe'\n",
    "us['musicxmlPath']"
   ]
  },
  {
   "cell_type": "code",
   "execution_count": 8,
   "metadata": {
    "colab": {
     "base_uri": "https://localhost:8080/",
     "height": 304
    },
    "id": "Wp_5372CvYP-",
    "outputId": "13d5c40a-d077-419c-9097-3d340cf145be"
   },
   "outputs": [
    {
     "data": {
      "image/png": "[encoded data removed]",
      "text/plain": [
       "<IPython.core.display.Image object>"
      ]
     },
     "metadata": {
      "image/png": {
       "height": 345,
       "width": 803
      }
     },
     "output_type": "display_data"
    }
   ],
   "source": [
    "songs[2].show()"
   ]
  },
  {
   "cell_type": "markdown",
   "metadata": {},
   "source": [
    "Visualization of how an encoded string looks like"
   ]
  },
  {
   "cell_type": "code",
   "execution_count": 9,
   "metadata": {
    "tags": []
   },
   "outputs": [
    {
     "name": "stderr",
     "output_type": "stream",
     "text": [
      "C:\\Users\\padma\\anaconda3\\envs\\DLENV\\lib\\site-packages\\music21\\stream\\base.py:3694: Music21DeprecationWarning: .flat is deprecated.  Call .flatten() instead\n",
      "  return self.iter().getElementsByClass(classFilterList)\n"
     ]
    },
    {
     "data": {
      "text/plain": [
       "'60 _ _ _ 69 _ _ _ 69 _ 69 _ 69 _ _ _ 67 _ 67 _ 67 _ _ _ _ _ 65 _ 65 _ _ _ 60 _ _ _ 70 _ _ _ 70 _ 70 _ 70 _ 69 _ 72 _ 69 _ 69 _ _ _ 67 _ _ _ r _ _ _ 60 _ _ _ 72 _ _ _ 72 _ 72 _ 72 _ _ _ 70 _ 70 _ 69 _ _ _ _ _ _ _ 72 _ 70 _ 69 _ 67 _ 65 _ _ _ 65 _ 65 _ 69 _ 67 _ 67 _ _ _ 65 _ _ _ _ _ _ _ 67 _ _ _ 70 _ _ _ 69 _ _ _ 69 _ 69 _ 72 _ 70 _ 69 _ 67 _ 65 _ _ _ _ _ _ _ r _ _ _'"
      ]
     },
     "execution_count": 9,
     "metadata": {},
     "output_type": "execute_result"
    }
   ],
   "source": [
    "encode_song(songs[2])"
   ]
  },
  {
   "cell_type": "markdown",
   "metadata": {
    "id": "uFm2o3clV8OA"
   },
   "source": [
    "The kern representation can be used to represent basic or core information for common Western music. The kern scheme can be used to encode pitch and duration, plus other common score-related information."
   ]
  },
  {
   "cell_type": "code",
   "execution_count": 38,
   "metadata": {
    "id": "JxRqln51HbpG"
   },
   "outputs": [],
   "source": [
    "def preprocess_songs(dataset_path):\n",
    "    print(\"Loading songs ...\")\n",
    "    songs=load_songs_in_kern_format(dataset_path)\n",
    "    print(\"Loaded {} songs.\".format(len(songs)))\n",
    "    i=0\n",
    "    for song in songs:\n",
    "        #removing non-acceptible songs\n",
    "        if(not has_acceptible_duration(song,ACCEPTABLE_DURATIONS)):\n",
    "            continue\n",
    "        #transpose the song to Cmaj/Amin\n",
    "        song=transpose(song)\n",
    "        #encode the song and return the string\n",
    "        encoded_song=encode_song(song)\n",
    "        save_path=os.path.join(SAVE_DIR,str(i))\n",
    "        i+=1\n",
    "        with open(save_path,\"w\") as fp:\n",
    "            fp.write(encoded_song)"
   ]
  },
  {
   "cell_type": "code",
   "execution_count": 39,
   "metadata": {
    "tags": []
   },
   "outputs": [
    {
     "name": "stdout",
     "output_type": "stream",
     "text": [
      "Loading songs ...\n",
      "Loaded 1700 songs.\n"
     ]
    }
   ],
   "source": [
    "preprocess_songs(r\"C:\\Users\\padma\\OneDrive\\Desktop\\essen\\europa\\deutschl\\erk\")"
   ]
  },
  {
   "cell_type": "code",
   "execution_count": 42,
   "metadata": {
    "tags": []
   },
   "outputs": [],
   "source": [
    "songs=create_single_file_dataset(SAVE_DIR,SINGLE_FILE_PATH,32)"
   ]
  },
  {
   "cell_type": "markdown",
   "metadata": {},
   "source": [
    "songs have characters which cant be parsed by any neural network. So we need to map these elements from a look up vocabulary."
   ]
  },
  {
   "cell_type": "code",
   "execution_count": 43,
   "metadata": {
    "tags": []
   },
   "outputs": [],
   "source": [
    "mapping_dictionary=create_mapping(songs,MAPPING_FILE_PATH)"
   ]
  },
  {
   "cell_type": "markdown",
   "metadata": {},
   "source": [
    "LSTM "
   ]
  },
  {
   "cell_type": "code",
   "execution_count": 47,
   "metadata": {
    "tags": []
   },
   "outputs": [],
   "source": [
    "OUTPUT_UNITS=len(mapping_dictionary)\n",
    "NUM_UNITS=[256]\n",
    "loss=tf.keras.losses.SparseCategoricalCrossentropy()\n",
    "def build_model(n_units,loss_fn,learning_rate,output_units=OUTPUT_UNITS):\n",
    "    #no.of inputs,no.of units in a one hot encoded vector\n",
    "    #this input is for one time step\n",
    "    input=tf.keras.layers.Input(shape=(None,output_units))\n",
    "    x=tf.keras.layers.LSTM(n_units[0])(input)\n",
    "    x=tf.keras.layers.Dropout(0.2)(x)\n",
    "    output= keras.layers.Dense(output_units,activation='softmax')(x)\n",
    "    model=tf.keras.Model(input,output)\n",
    "    model.compile(loss=loss_fn,optimizer=tf.keras.optimizers.Adam(learning_rate=learning_rate),\n",
    "                 metrics=['accuracy'])\n",
    "    model.summary()\n",
    "    return model\n",
    "    \n",
    "    \n",
    "    "
   ]
  },
  {
   "cell_type": "code",
   "execution_count": 48,
   "metadata": {
    "tags": []
   },
   "outputs": [
    {
     "name": "stdout",
     "output_type": "stream",
     "text": [
      "Model: \"model\"\n",
      "_________________________________________________________________\n",
      " Layer (type)                Output Shape              Param #   \n",
      "=================================================================\n",
      " input_1 (InputLayer)        [(None, None, 38)]        0         \n",
      "                                                                 \n",
      " lstm (LSTM)                 (None, 256)               302080    \n",
      "                                                                 \n",
      " dropout (Dropout)           (None, 256)               0         \n",
      "                                                                 \n",
      " dense (Dense)               (None, 38)                9766      \n",
      "                                                                 \n",
      "=================================================================\n",
      "Total params: 311,846\n",
      "Trainable params: 311,846\n",
      "Non-trainable params: 0\n",
      "_________________________________________________________________\n"
     ]
    }
   ],
   "source": [
    "model=build_model(NUM_UNITS,loss,0.001,OUTPUT_UNITS)"
   ]
  },
  {
   "cell_type": "code",
   "execution_count": 49,
   "metadata": {
    "tags": []
   },
   "outputs": [],
   "source": [
    "inputs,targets=generating_training_seq(32)"
   ]
  },
  {
   "cell_type": "code",
   "execution_count": null,
   "metadata": {
    "tags": []
   },
   "outputs": [],
   "source": [
    "model.fit(inputs,targets,epochs=100,batch_size=64)\n",
    "model.save(SAVE_MODEL_PATH)"
   ]
  },
  {
   "cell_type": "code",
   "execution_count": 53,
   "metadata": {
    "tags": []
   },
   "outputs": [],
   "source": [
    "model.save(SAVE_MODEL_PATH)"
   ]
  },
  {
   "cell_type": "code",
   "execution_count": 22,
   "metadata": {
    "tags": []
   },
   "outputs": [],
   "source": [
    "class MelodyGenerator():\n",
    "    def __init__(self,model_path=\"lstm_song_generator.h5\"):\n",
    "        self.model_path=model_path\n",
    "        self.model=tf.keras.models.load_model(self.model_path)\n",
    "        with open(MAPPING_FILE_PATH,\"r\") as fp:\n",
    "            self.mappings=json.load(fp)\n",
    "        self._start_symbols= [\"/\"]*SEQUENCE_LENGTH\n",
    "    \n",
    "    def generate(self,seed,num_steps,max_sequence_length,temperature):\n",
    "        #create seed with start symbols\n",
    "        seed=seed.split()\n",
    "        melody=seed\n",
    "        seed=self._start_symbols+seed\n",
    "        #map to integers\n",
    "        seed=[self.mappings[symbol] for symbol in seed]\n",
    "        \n",
    "        for _ in range(num_steps):\n",
    "            #limit the seed to max sequence length\n",
    "            seed=seed[-max_sequence_length:]\n",
    "            #one_hot encode\n",
    "            one_hot_seed=tf.expand_dims(tf.keras.utils.to_categorical(seed,num_classes=len(self.mappings)),axis=0)\n",
    "            #this produces a 2D array of (max_sequence_length,38)\n",
    "            probabilities=self.model.predict(one_hot_seed)[0]\n",
    "            output_int=self.sample_with_temperature(probabilities,temperature)\n",
    "            \n",
    "            #update the seed\n",
    "            seed.append(output_int)\n",
    "            \n",
    "            #map input to our encoding\n",
    "            output_symbol=[k for k,v in self.mappings.items() if v==output_int][0]\n",
    "            if output_symbol==\"/\":\n",
    "                break\n",
    "            melody.append(output_symbol)\n",
    "        return melody\n",
    "    \n",
    "    def sample_with_temperature(self,probabilities,temperature):\n",
    "        #temp->infinity makes prob.dist uniform\n",
    "        #temp->0 makes it highly selective and rigid\n",
    "        #set temp=1\n",
    "        predictions=np.log(probabilities)/temperature\n",
    "        probabilities=np.exp(predictions)/np.sum(np.exp(predictions))\n",
    "        choices=range(len(probabilities))\n",
    "        index=np.random.choice(choices,p=probabilities)\n",
    "        return index\n",
    "    \n",
    "    def save_melody(self,melody,step_duration=0.25,format=\"midi\",file_name=\"generated_melody.midi\"):\n",
    "        stream=music21.stream.Stream() #init a music21 stream\n",
    "        start_symbol=None\n",
    "        step_count=1\n",
    "        for i,symbol in enumerate(melody):\n",
    "            if ((symbol!=\"_\") or (i==len(melody)-1)):\n",
    "                if start_symbol is not None:\n",
    "                    quarter_length_duration=step_duration*step_count\n",
    "                    \n",
    "                    #rest\n",
    "                    if start_symbol==\"r\":\n",
    "                        m21_event=music21.note.Rest(quarterLength=quarter_length_duration)\n",
    "                    #note\n",
    "                    else:\n",
    "                        m21_event=music21.note.Note(int(start_symbol),quarterLength=quarter_length_duration)\n",
    "                    stream.append(m21_event)\n",
    "                    step_count=1\n",
    "                start_symbol=symbol\n",
    "            else:\n",
    "                step_count+=1\n",
    "                    \n",
    "        stream.write(format,file_name)"
   ]
  },
  {
   "cell_type": "code",
   "execution_count": 29,
   "metadata": {
    "tags": []
   },
   "outputs": [
    {
     "name": "stdout",
     "output_type": "stream",
     "text": [
      "1/1 [==============================] - 1s 1s/step\n",
      "1/1 [==============================] - 0s 67ms/step\n",
      "1/1 [==============================] - 0s 48ms/step\n",
      "1/1 [==============================] - 0s 32ms/step\n",
      "1/1 [==============================] - 0s 32ms/step\n",
      "1/1 [==============================] - 0s 47ms/step\n",
      "1/1 [==============================] - 0s 28ms/step\n",
      "1/1 [==============================] - 0s 46ms/step\n",
      "1/1 [==============================] - 0s 28ms/step\n",
      "1/1 [==============================] - 0s 47ms/step\n",
      "1/1 [==============================] - 0s 38ms/step\n",
      "1/1 [==============================] - 0s 59ms/step\n",
      "1/1 [==============================] - 0s 48ms/step\n",
      "1/1 [==============================] - 0s 63ms/step\n",
      "1/1 [==============================] - 0s 37ms/step\n",
      "1/1 [==============================] - 0s 36ms/step\n",
      "1/1 [==============================] - 0s 57ms/step\n",
      "1/1 [==============================] - 0s 40ms/step\n",
      "1/1 [==============================] - 0s 36ms/step\n",
      "1/1 [==============================] - 0s 41ms/step\n",
      "1/1 [==============================] - 0s 48ms/step\n",
      "1/1 [==============================] - 0s 37ms/step\n",
      "1/1 [==============================] - 0s 38ms/step\n",
      "1/1 [==============================] - 0s 38ms/step\n",
      "1/1 [==============================] - 0s 47ms/step\n",
      "1/1 [==============================] - 0s 51ms/step\n",
      "1/1 [==============================] - 0s 48ms/step\n",
      "1/1 [==============================] - 0s 44ms/step\n",
      "1/1 [==============================] - 0s 32ms/step\n",
      "1/1 [==============================] - 0s 53ms/step\n",
      "1/1 [==============================] - 0s 48ms/step\n",
      "1/1 [==============================] - 0s 44ms/step\n",
      "1/1 [==============================] - 0s 50ms/step\n",
      "1/1 [==============================] - 0s 35ms/step\n",
      "1/1 [==============================] - 0s 39ms/step\n",
      "1/1 [==============================] - 0s 42ms/step\n",
      "1/1 [==============================] - 0s 41ms/step\n",
      "1/1 [==============================] - 0s 53ms/step\n",
      "1/1 [==============================] - 0s 34ms/step\n",
      "1/1 [==============================] - 0s 47ms/step\n",
      "1/1 [==============================] - 0s 37ms/step\n",
      "1/1 [==============================] - 0s 48ms/step\n",
      "1/1 [==============================] - 0s 31ms/step\n",
      "1/1 [==============================] - 0s 35ms/step\n",
      "1/1 [==============================] - 0s 36ms/step\n",
      "1/1 [==============================] - 0s 32ms/step\n",
      "1/1 [==============================] - 0s 34ms/step\n",
      "1/1 [==============================] - 0s 31ms/step\n",
      "1/1 [==============================] - 0s 50ms/step\n",
      "1/1 [==============================] - 0s 41ms/step\n",
      "1/1 [==============================] - 0s 50ms/step\n",
      "1/1 [==============================] - 0s 41ms/step\n",
      "1/1 [==============================] - 0s 41ms/step\n",
      "1/1 [==============================] - 0s 36ms/step\n",
      "1/1 [==============================] - 0s 33ms/step\n",
      "1/1 [==============================] - 0s 39ms/step\n",
      "1/1 [==============================] - 0s 47ms/step\n",
      "1/1 [==============================] - 0s 32ms/step\n",
      "1/1 [==============================] - 0s 33ms/step\n",
      "1/1 [==============================] - 0s 44ms/step\n",
      "1/1 [==============================] - 0s 35ms/step\n",
      "1/1 [==============================] - 0s 46ms/step\n",
      "1/1 [==============================] - 0s 42ms/step\n",
      "1/1 [==============================] - 0s 30ms/step\n",
      "1/1 [==============================] - 0s 29ms/step\n",
      "1/1 [==============================] - 0s 35ms/step\n",
      "1/1 [==============================] - 0s 35ms/step\n",
      "1/1 [==============================] - 0s 47ms/step\n",
      "1/1 [==============================] - 0s 51ms/step\n",
      "1/1 [==============================] - 0s 36ms/step\n",
      "1/1 [==============================] - 0s 47ms/step\n",
      "1/1 [==============================] - 0s 68ms/step\n",
      "1/1 [==============================] - 0s 34ms/step\n",
      "1/1 [==============================] - 0s 48ms/step\n",
      "1/1 [==============================] - 0s 47ms/step\n",
      "1/1 [==============================] - 0s 36ms/step\n",
      "1/1 [==============================] - 0s 33ms/step\n",
      "1/1 [==============================] - 0s 34ms/step\n",
      "1/1 [==============================] - 0s 48ms/step\n",
      "1/1 [==============================] - 0s 34ms/step\n",
      "1/1 [==============================] - 0s 40ms/step\n",
      "1/1 [==============================] - 0s 47ms/step\n",
      "1/1 [==============================] - 0s 37ms/step\n",
      "1/1 [==============================] - 0s 48ms/step\n",
      "1/1 [==============================] - 0s 32ms/step\n",
      "1/1 [==============================] - 0s 29ms/step\n",
      "1/1 [==============================] - 0s 28ms/step\n",
      "1/1 [==============================] - 0s 47ms/step\n",
      "1/1 [==============================] - 0s 49ms/step\n",
      "1/1 [==============================] - 0s 32ms/step\n",
      "1/1 [==============================] - 0s 44ms/step\n",
      "1/1 [==============================] - 0s 39ms/step\n",
      "1/1 [==============================] - 0s 44ms/step\n",
      "1/1 [==============================] - 0s 46ms/step\n",
      "1/1 [==============================] - 0s 49ms/step\n",
      "1/1 [==============================] - 0s 33ms/step\n",
      "1/1 [==============================] - 0s 51ms/step\n",
      "1/1 [==============================] - 0s 36ms/step\n",
      "1/1 [==============================] - 0s 30ms/step\n",
      "1/1 [==============================] - 0s 33ms/step\n",
      "1/1 [==============================] - 0s 35ms/step\n",
      "1/1 [==============================] - 0s 36ms/step\n",
      "1/1 [==============================] - 0s 54ms/step\n",
      "1/1 [==============================] - 0s 43ms/step\n",
      "1/1 [==============================] - 0s 34ms/step\n",
      "1/1 [==============================] - 0s 38ms/step\n",
      "1/1 [==============================] - 0s 48ms/step\n",
      "1/1 [==============================] - 0s 49ms/step\n",
      "1/1 [==============================] - 0s 48ms/step\n",
      "1/1 [==============================] - 0s 35ms/step\n",
      "1/1 [==============================] - 0s 40ms/step\n",
      "1/1 [==============================] - 0s 36ms/step\n",
      "1/1 [==============================] - 0s 48ms/step\n",
      "1/1 [==============================] - 0s 32ms/step\n",
      "1/1 [==============================] - 0s 47ms/step\n",
      "1/1 [==============================] - 0s 40ms/step\n",
      "1/1 [==============================] - 0s 32ms/step\n",
      "1/1 [==============================] - 0s 37ms/step\n",
      "1/1 [==============================] - 0s 47ms/step\n",
      "1/1 [==============================] - 0s 40ms/step\n",
      "1/1 [==============================] - 0s 31ms/step\n",
      "1/1 [==============================] - 0s 32ms/step\n",
      "1/1 [==============================] - 0s 36ms/step\n",
      "1/1 [==============================] - 0s 32ms/step\n",
      "1/1 [==============================] - 0s 32ms/step\n",
      "1/1 [==============================] - 0s 29ms/step\n",
      "1/1 [==============================] - 0s 33ms/step\n",
      "1/1 [==============================] - 0s 30ms/step\n",
      "1/1 [==============================] - 0s 48ms/step\n",
      "1/1 [==============================] - 0s 46ms/step\n",
      "1/1 [==============================] - 0s 47ms/step\n",
      "1/1 [==============================] - 0s 34ms/step\n",
      "1/1 [==============================] - 0s 28ms/step\n",
      "1/1 [==============================] - 0s 30ms/step\n",
      "1/1 [==============================] - 0s 32ms/step\n",
      "1/1 [==============================] - 0s 30ms/step\n",
      "1/1 [==============================] - 0s 33ms/step\n",
      "1/1 [==============================] - 0s 32ms/step\n",
      "1/1 [==============================] - 0s 27ms/step\n",
      "1/1 [==============================] - 0s 35ms/step\n",
      "1/1 [==============================] - 0s 31ms/step\n",
      "1/1 [==============================] - 0s 51ms/step\n",
      "1/1 [==============================] - 0s 29ms/step\n",
      "1/1 [==============================] - 0s 31ms/step\n",
      "1/1 [==============================] - 0s 47ms/step\n",
      "1/1 [==============================] - 0s 47ms/step\n",
      "1/1 [==============================] - 0s 31ms/step\n",
      "1/1 [==============================] - 0s 31ms/step\n",
      "1/1 [==============================] - 0s 47ms/step\n",
      "1/1 [==============================] - 0s 28ms/step\n",
      "1/1 [==============================] - 0s 36ms/step\n",
      "1/1 [==============================] - 0s 31ms/step\n",
      "1/1 [==============================] - 0s 32ms/step\n",
      "1/1 [==============================] - 0s 31ms/step\n",
      "1/1 [==============================] - 0s 25ms/step\n",
      "1/1 [==============================] - 0s 31ms/step\n",
      "1/1 [==============================] - 0s 31ms/step\n",
      "1/1 [==============================] - 0s 31ms/step\n",
      "1/1 [==============================] - 0s 33ms/step\n",
      "1/1 [==============================] - 0s 31ms/step\n",
      "1/1 [==============================] - 0s 31ms/step\n",
      "1/1 [==============================] - 0s 31ms/step\n",
      "1/1 [==============================] - 0s 47ms/step\n",
      "1/1 [==============================] - 0s 47ms/step\n",
      "1/1 [==============================] - 0s 32ms/step\n",
      "1/1 [==============================] - 0s 48ms/step\n",
      "1/1 [==============================] - 0s 32ms/step\n",
      "1/1 [==============================] - 0s 35ms/step\n",
      "1/1 [==============================] - 0s 47ms/step\n",
      "1/1 [==============================] - 0s 31ms/step\n",
      "1/1 [==============================] - 0s 46ms/step\n",
      "1/1 [==============================] - 0s 31ms/step\n",
      "1/1 [==============================] - 0s 32ms/step\n",
      "1/1 [==============================] - 0s 41ms/step\n",
      "1/1 [==============================] - 0s 36ms/step\n",
      "1/1 [==============================] - 0s 33ms/step\n",
      "1/1 [==============================] - 0s 28ms/step\n",
      "1/1 [==============================] - 0s 39ms/step\n",
      "1/1 [==============================] - 0s 35ms/step\n",
      "1/1 [==============================] - 0s 35ms/step\n",
      "1/1 [==============================] - 0s 29ms/step\n",
      "1/1 [==============================] - 0s 34ms/step\n",
      "1/1 [==============================] - 0s 36ms/step\n",
      "1/1 [==============================] - 0s 31ms/step\n",
      "1/1 [==============================] - 0s 31ms/step\n",
      "1/1 [==============================] - 0s 31ms/step\n",
      "1/1 [==============================] - 0s 47ms/step\n",
      "1/1 [==============================] - 0s 32ms/step\n",
      "1/1 [==============================] - 0s 42ms/step\n",
      "1/1 [==============================] - 0s 39ms/step\n",
      "1/1 [==============================] - 0s 47ms/step\n",
      "1/1 [==============================] - 0s 31ms/step\n",
      "1/1 [==============================] - 0s 31ms/step\n",
      "1/1 [==============================] - 0s 47ms/step\n",
      "1/1 [==============================] - 0s 36ms/step\n",
      "1/1 [==============================] - 0s 31ms/step\n",
      "1/1 [==============================] - 0s 40ms/step\n",
      "1/1 [==============================] - 0s 28ms/step\n",
      "1/1 [==============================] - 0s 29ms/step\n",
      "1/1 [==============================] - 0s 31ms/step\n",
      "1/1 [==============================] - 0s 31ms/step\n",
      "1/1 [==============================] - 0s 47ms/step\n",
      "1/1 [==============================] - 0s 31ms/step\n",
      "1/1 [==============================] - 0s 31ms/step\n",
      "1/1 [==============================] - 0s 47ms/step\n",
      "1/1 [==============================] - 0s 41ms/step\n",
      "1/1 [==============================] - 0s 47ms/step\n",
      "1/1 [==============================] - 0s 36ms/step\n",
      "1/1 [==============================] - 0s 46ms/step\n",
      "1/1 [==============================] - 0s 37ms/step\n",
      "1/1 [==============================] - 0s 34ms/step\n",
      "1/1 [==============================] - 0s 36ms/step\n",
      "1/1 [==============================] - 0s 47ms/step\n",
      "1/1 [==============================] - 0s 31ms/step\n",
      "1/1 [==============================] - 0s 34ms/step\n",
      "1/1 [==============================] - 0s 35ms/step\n",
      "1/1 [==============================] - 0s 31ms/step\n",
      "1/1 [==============================] - 0s 31ms/step\n",
      "1/1 [==============================] - 0s 31ms/step\n",
      "1/1 [==============================] - 0s 31ms/step\n",
      "1/1 [==============================] - 0s 47ms/step\n",
      "1/1 [==============================] - 0s 31ms/step\n",
      "1/1 [==============================] - 0s 42ms/step\n",
      "1/1 [==============================] - 0s 41ms/step\n",
      "1/1 [==============================] - 0s 43ms/step\n",
      "1/1 [==============================] - 0s 31ms/step\n",
      "1/1 [==============================] - 0s 31ms/step\n",
      "1/1 [==============================] - 0s 31ms/step\n",
      "1/1 [==============================] - 0s 31ms/step\n",
      "1/1 [==============================] - 0s 35ms/step\n",
      "1/1 [==============================] - 0s 34ms/step\n",
      "1/1 [==============================] - 0s 31ms/step\n",
      "1/1 [==============================] - 0s 31ms/step\n",
      "1/1 [==============================] - 0s 47ms/step\n",
      "1/1 [==============================] - 0s 49ms/step\n",
      "1/1 [==============================] - 0s 31ms/step\n",
      "1/1 [==============================] - 0s 47ms/step\n",
      "1/1 [==============================] - 0s 31ms/step\n",
      "1/1 [==============================] - 0s 33ms/step\n",
      "1/1 [==============================] - 0s 31ms/step\n",
      "1/1 [==============================] - 0s 31ms/step\n",
      "1/1 [==============================] - 0s 34ms/step\n",
      "1/1 [==============================] - 0s 41ms/step\n",
      "1/1 [==============================] - 0s 31ms/step\n",
      "1/1 [==============================] - 0s 31ms/step\n",
      "1/1 [==============================] - 0s 47ms/step\n",
      "1/1 [==============================] - 0s 31ms/step\n",
      "1/1 [==============================] - 0s 29ms/step\n",
      "1/1 [==============================] - 0s 34ms/step\n",
      "1/1 [==============================] - 0s 33ms/step\n"
     ]
    }
   ],
   "source": [
    "gen=MelodyGenerator()\n",
    "seed=\"55 _ 60 _ 64 _ 60 _ _ _ 59 _ 60 _ 62 _ 64 _ 60 _ _ _ r _ 60 _ 64 _ 67 _ 67 _ _ 65 64 _ 62 _ 60\"\n",
    "melody=gen.generate(seed,500,SEQUENCE_LENGTH,0.8)\n",
    "gen.save_melody(melody)"
   ]
  }
 ],
 "metadata": {
  "colab": {
   "provenance": []
  },
  "kernelspec": {
   "display_name": "DLENV",
   "language": "python",
   "name": "dlenv"
  },
  "language_info": {
   "codemirror_mode": {
    "name": "ipython",
    "version": 3
   },
   "file_extension": ".py",
   "mimetype": "text/x-python",
   "name": "python",
   "nbconvert_exporter": "python",
   "pygments_lexer": "ipython3",
   "version": "3.10.13"
  }
 },
 "nbformat": 4,
 "nbformat_minor": 4
}
